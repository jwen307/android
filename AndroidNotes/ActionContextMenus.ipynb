{
 "cells": [
  {
   "cell_type": "markdown",
   "metadata": {},
   "source": [
    "# App Bar and Pickers\n",
    "\n",
    "The App Bar is the strip at the top of the app with the app name. It can include different icons to take you other activities. \n",
    "\n",
    "Pickers or diaglogs are pop up windows that force the user to make a selection.\n",
    "\n",
    "Note: You should use the Toolbar library to set up the Action Bar instead of the action bar library. \n",
    "\n",
    "## Adding menu items to the options menu\n",
    "You can define all menu items in the menu_main.xml file.\n",
    "\n",
    "Define new menu items as \n"
   ]
  },
  {
   "cell_type": "code",
   "execution_count": null,
   "metadata": {},
   "outputs": [],
   "source": [
    " <item\n",
    "        android:id=\"@+id/action_contact\"\n",
    "        android:orderInCategory=\"100\"\n",
    "        android:title=\"@string/action_content\"\n",
    "        app:showAsAction=\"never\" />"
   ]
  },
  {
   "cell_type": "markdown",
   "metadata": {},
   "source": [
    "Note: orderInCategory defines the location in the menu. Smaller numbers are on the top\n",
    "\n",
    "\n",
    "## Adding Menu Icons\n",
    "We want the most frequently used options to always appear in the app bar, others to appear if they will fit, and others to never appear.\n",
    "\n",
    "1. Add Image Assets for each of the icons you want to add into the drawable folder.\n",
    "2. To show the item, change app:showAsAction in the menu_main.xml\n",
    "    - \"always\"\n",
    "    - \"ifRoom\"\n",
    "    - \"never\"\n",
    "3. Add the icon with android:icon=\"@drawable/ic_shopping_cart\"\n",
    "4. To choose what happens when an item is selected, change the onOptionsItemSelected() method in MainActivity.java"
   ]
  },
  {
   "cell_type": "code",
   "execution_count": null,
   "metadata": {},
   "outputs": [],
   "source": [
    "@Override\n",
    "    public boolean onOptionsItemSelected(MenuItem item) {\n",
    "        // Handle action bar item clicks here. The action bar will\n",
    "        // automatically handle clicks on the Home/Up button, so long\n",
    "        // as you specify a parent activity in AndroidManifest.xml.\n",
    "        switch (item.getItemId()) {\n",
    "            case R.id.action_order:\n",
    "                Intent intent = new Intent(MainActivity.this, OrderActivity.class);\n",
    "                startActivity(intent);\n",
    "                return true;\n",
    "            case R.id.action_status:\n",
    "                displayToast(getString(R.string.action_status_message));\n",
    "                return true;\n",
    "            case R.id.action_favorites:\n",
    "                displayToast(getString(R.string.action_favorites_message));\n",
    "                return true;\n",
    "            case R.id.action_contact:\n",
    "                displayToast(getString(R.string.action_contact_message));\n",
    "                return true;\n",
    "            default:\n",
    "                // Do nothing\n",
    "        }\n",
    "        return super.onOptionsItemSelected(item);\n",
    "    }"
   ]
  },
  {
   "cell_type": "markdown",
   "metadata": {},
   "source": [
    "## Adding a Context Menu\n",
    "A context menu is a list of options that show up when the user taps and holds on an option. \n",
    "1. Add a new menu_resource file\n",
    "    -RC on Res -> New -> Android Resource Directory -> Choose menu for the Resource Type\n",
    "2. Add items just as you did in the app bar menu\n",
    "3. Register the View to the context menu with registerForContextMenu() in the onCreate() method\n"
   ]
  },
  {
   "cell_type": "code",
   "execution_count": null,
   "metadata": {},
   "outputs": [],
   "source": [
    "TextView article_text = findViewById(R.id.article);\n",
    "registerForContextMenu(article_text);"
   ]
  },
  {
   "cell_type": "markdown",
   "metadata": {},
   "source": [
    "4. Implement an onCreateContextMenu() method"
   ]
  },
  {
   "cell_type": "code",
   "execution_count": null,
   "metadata": {},
   "outputs": [],
   "source": [
    "@Override\n",
    "public void onCreateContextMenu(ContextMenu menu, View v,\n",
    "                   ContextMenu.ContextMenuInfo menuInfo) {\n",
    "    super.onCreateContextMenu(menu, v, menuInfo);\n",
    "    MenuInflater inflater = getMenuInflater();\n",
    "    inflater.inflate(R.menu.menu_context, menu);\n",
    "}"
   ]
  },
  {
   "cell_type": "markdown",
   "metadata": {},
   "source": [
    "5. Implement a onContextItemSelected() method to choose what happens when the items are selected"
   ]
  },
  {
   "cell_type": "code",
   "execution_count": null,
   "metadata": {},
   "outputs": [],
   "source": [
    "@Override\n",
    "    public boolean onContextItemSelected(MenuItem item) {\n",
    "        switch (item.getItemId()) {\n",
    "            case R.id.action_order:\n",
    "                displayToast(\"Donut Ordered\");\n",
    "                return true;\n",
    "\n",
    "            default:\n",
    "                return super.onContextItemSelected(item);\n",
    "        }\n",
    "    }"
   ]
  }
 ],
 "metadata": {
  "kernelspec": {
   "display_name": "Python 3",
   "language": "python",
   "name": "python3"
  },
  "language_info": {
   "codemirror_mode": {
    "name": "ipython",
    "version": 3
   },
   "file_extension": ".py",
   "mimetype": "text/x-python",
   "name": "python",
   "nbconvert_exporter": "python",
   "pygments_lexer": "ipython3",
   "version": "3.7.4"
  }
 },
 "nbformat": 4,
 "nbformat_minor": 4
}
