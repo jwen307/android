{
 "cells": [
  {
   "cell_type": "markdown",
   "metadata": {},
   "source": [
    "# Activities and Intents\n",
    "\n",
    "An Activity is a single screen. The main activity is the first page that a user will see when starting up the app. From there, other activities can be started. //\n",
    "//\n",
    "When a new activity is started, the current one is stopped and put onto a stack. The stack is last in, first out. So when the user presses the back button, the previous activity is brought back up. //\n",
    "//\n",
    "An activity is activated by an Intent. //\n",
    "Intent: an asynchronous message that start another activity or pass data between activities.//\n",
    "Two types:\n",
    "1. Explicit: you know the target activity of the intent\n",
    "2. Implicit: you don't have the name of the activity, but you have a general action to perform\n",
    "\n",
    "## Two Activity App\n",
    "1. Add a button to the first activity\n",
    "2. In the xml file, add android:onClick=\"launchSecondActivity\" to the Button section\n",
    "3. Click on the launchSecondActivity, Alt+Enter, Create ... in Main Activity to create a skeleton code in the java file.\n"
   ]
  }
 ],
 "metadata": {
  "kernelspec": {
   "display_name": "Python 3",
   "language": "python",
   "name": "python3"
  },
  "language_info": {
   "codemirror_mode": {
    "name": "ipython",
    "version": 3
   },
   "file_extension": ".py",
   "mimetype": "text/x-python",
   "name": "python",
   "nbconvert_exporter": "python",
   "pygments_lexer": "ipython3",
   "version": "3.7.5"
  }
 },
 "nbformat": 4,
 "nbformat_minor": 4
}
