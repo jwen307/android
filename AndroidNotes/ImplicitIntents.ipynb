{
 "cells": [
  {
   "cell_type": "markdown",
   "metadata": {},
   "source": [
    "# Implicit Intents\n",
    "Implicit intents do not have a particular activity connected to them. You broadcast the intent and see which apps or activities are capable of handling the intent. (Ex: Sharing info or opening a link)\n",
    "\n",
    "You can declare intent filters in the AndroidManifest.xml to specify which implicit intents your activity will accept and handle. \n",
    "\n",
    "## Opening a website\n",
    "To open up a URL, we want to send an implicit intent that looks for activities that can open the link.\n",
    "\n",
    "1. Encode and parse the URL into a Uniform Resource Identifier (URI)"
   ]
  },
  {
   "cell_type": "code",
   "execution_count": null,
   "metadata": {},
   "outputs": [],
   "source": [
    "//Encode and parse the string into a Uri (Uniform Resource Identifier) object\n",
    "Uri webpage = Uri.parse(url);"
   ]
  },
  {
   "cell_type": "markdown",
   "metadata": {},
   "source": [
    "2. Now, you can create a new Intent. Here, we can specify the action of the intent. This can be ACTION_VIEW, ACTION_EDIT, ACTION_DIAL"
   ]
  },
  {
   "cell_type": "code",
   "execution_count": null,
   "metadata": {},
   "outputs": [],
   "source": [
    "//Specify and implicit intent (Intent.ACTION_VIEW is an action to view the webpage)\n",
    "Intent intent = new Intent(Intent.ACTION_VIEW, webpage);"
   ]
  },
  {
   "cell_type": "markdown",
   "metadata": {},
   "source": [
    "3. Use resolveActivity to make sure there's an app whose intent filter says they can handle the intent. Then start the event"
   ]
  },
  {
   "cell_type": "code",
   "execution_count": null,
   "metadata": {},
   "outputs": [],
   "source": [
    "//Find an activity that can handle the intent\n",
    "    if (intent.resolveActivity(getPackageManager()) != null) {\n",
    "        startActivity(intent);      //Sends the Intent\n",
    "    }\n",
    "    else{\n",
    "        Log.d(\"ImplicitIntents\", \"Can't handle this!\");   //Log in case Intent can be resolved\n",
    "    }"
   ]
  },
  {
   "cell_type": "markdown",
   "metadata": {},
   "source": [
    "## Opening a Location\n",
    "This is almost the same thing as opening a website but you use a geo URI\n",
    "\n",
    "## Share This Text Button\n",
    "You could create an implicit intent to share, but there is a ShareCompat.IntentBuilder class to make it easier.\n",
    "This lets you launch a chooser to have the user choose which app to use for sharing.\n",
    "\n",
    "ShareCompat.IntentBuilder has these methods:\n",
    "- from(): Activity that launches the share Intent. (Here it is 'this')\n",
    "- setType(): The MIME type of the shared item\n",
    "- setChooserTitle(): The title of the chooser that appears\n",
    "- setText(): The text that will be shared\n",
    "- startChooser(): Display the app chooser\n"
   ]
  },
  {
   "cell_type": "code",
   "execution_count": null,
   "metadata": {},
   "outputs": [],
   "source": [
    "//Call the ShareCompat.IntentBuilder\n",
    "ShareCompat.IntentBuilder\n",
    "        .from(this)\n",
    "        .setType(mimeType)\n",
    "        .setChooserTitle(getString(R.string.chooser_title))\n",
    "        .setText(txt)\n",
    "        .startChooser();"
   ]
  },
  {
   "cell_type": "markdown",
   "metadata": {},
   "source": [
    "## MainActivity.java"
   ]
  },
  {
   "cell_type": "code",
   "execution_count": null,
   "metadata": {},
   "outputs": [],
   "source": [
    "package com.example.implicitintent;\n",
    "\n",
    "import android.content.Intent;\n",
    "import android.net.Uri;\n",
    "import android.os.Bundle;\n",
    "import android.util.Log;\n",
    "import android.view.View;\n",
    "import android.widget.EditText;\n",
    "\n",
    "import androidx.appcompat.app.AppCompatActivity;\n",
    "import androidx.core.app.ShareCompat;\n",
    "\n",
    "public class MainActivity extends AppCompatActivity {\n",
    "\n",
    "\n",
    "    private EditText mWebsiteEditText;\n",
    "    private EditText mLocationEditText;\n",
    "    private EditText mShareTextEditText;\n",
    "\n",
    "\n",
    "    @Override\n",
    "    protected void onCreate(Bundle savedInstanceState) {\n",
    "        super.onCreate(savedInstanceState);\n",
    "        setContentView(R.layout.activity_main);\n",
    "\n",
    "        //Assign the EditText for the website\n",
    "        mWebsiteEditText = findViewById(R.id.website_edittext);\n",
    "\n",
    "        //Assign the EditText for the location\n",
    "        mLocationEditText = findViewById(R.id.location_edittext);\n",
    "\n",
    "        //Assign the EditText for the share text\n",
    "        mShareTextEditText = findViewById(R.id.share_edittext);\n",
    "    }\n",
    "\n",
    "    public void openWebsite(View view) {\n",
    "        String url = mWebsiteEditText.getText().toString();\n",
    "\n",
    "        //Encode and parse the string into a Uri (Uniform Resource Identifier) object\n",
    "        Uri webpage = Uri.parse(url);\n",
    "\n",
    "        //Specify and implicit intent (Intent.ACTION_VIEW is an action to view the webpage)\n",
    "        Intent intent = new Intent(Intent.ACTION_VIEW, webpage);\n",
    "\n",
    "        //Find an activity that can handle the intent\n",
    "        if (intent.resolveActivity(getPackageManager()) != null) {\n",
    "            startActivity(intent);      //Sends the Intent\n",
    "        }\n",
    "        else{\n",
    "            Log.d(\"ImplicitIntents\", \"Can't handle this!\");   //Log in case Intent can be resolved\n",
    "        }\n",
    "    }\n",
    "\n",
    "    public void openLocation(View view) {\n",
    "        String loc = mLocationEditText.getText().toString();\n",
    "\n",
    "        //Make it into a geo URI\n",
    "        Uri addressUri = Uri.parse(\"geo:0,0?q=\" + loc);\n",
    "\n",
    "        //Create a new intent\n",
    "        Intent intent = new Intent(Intent.ACTION_VIEW, addressUri);\n",
    "\n",
    "        if (intent.resolveActivity(getPackageManager()) != null) {\n",
    "            startActivity(intent);\n",
    "        } else {\n",
    "            Log.d(\"ImplicitIntents\", \"Can't handle this intent!\");\n",
    "        }\n",
    "    }\n",
    "\n",
    "    public void shareText(View view) {\n",
    "        String txt = mShareTextEditText.getText().toString();\n",
    "\n",
    "        //Define the mimeType\n",
    "        String mimeType = \"text/plain\";\n",
    "\n",
    "\n",
    "        //Call the ShareCompat.IntentBuilder\n",
    "        ShareCompat.IntentBuilder\n",
    "                .from(this)\n",
    "                .setType(mimeType)\n",
    "                .setChooserTitle(getString(R.string.chooser_title))\n",
    "                .setText(txt)\n",
    "                .startChooser();\n",
    "\n",
    "\n",
    "    }\n",
    "}"
   ]
  },
  {
   "cell_type": "markdown",
   "metadata": {},
   "source": [
    "## activity_main.xml"
   ]
  },
  {
   "cell_type": "code",
   "execution_count": null,
   "metadata": {},
   "outputs": [],
   "source": [
    "<?xml version=\"1.0\" encoding=\"utf-8\"?>\n",
    "<LinearLayout xmlns:android=\"http://schemas.android.com/apk/res/android\"\n",
    "    xmlns:app=\"http://schemas.android.com/apk/res-auto\"\n",
    "    xmlns:tools=\"http://schemas.android.com/tools\"\n",
    "    android:layout_width=\"match_parent\"\n",
    "    android:layout_height=\"match_parent\"\n",
    "    android:orientation=\"vertical\"\n",
    "    android:padding=\"16dp\"\n",
    "    tools:context=\".MainActivity\">\n",
    "\n",
    "    <EditText\n",
    "        android:id=\"@+id/website_edittext\"\n",
    "        android:layout_width=\"match_parent\"\n",
    "        android:layout_height=\"wrap_content\"\n",
    "        android:text=\"@string/edittext_uri\"/>\n",
    "\n",
    "    <Button\n",
    "        android:id=\"@+id/open_website_button\"\n",
    "        android:layout_width=\"wrap_content\"\n",
    "        android:layout_height=\"wrap_content\"\n",
    "        android:layout_marginBottom=\"24dp\"\n",
    "        android:text=\"@string/button_uri\"\n",
    "        android:onClick=\"openWebsite\"/>\n",
    "\n",
    "    <EditText\n",
    "        android:id=\"@+id/location_edittext\"\n",
    "        android:layout_width=\"match_parent\"\n",
    "        android:layout_height=\"wrap_content\"\n",
    "        android:text=\"@string/edittext_uri\"/>\n",
    "\n",
    "    <Button\n",
    "        android:id=\"@+id/open_location_button\"\n",
    "        android:layout_width=\"wrap_content\"\n",
    "        android:layout_height=\"wrap_content\"\n",
    "        android:layout_marginBottom=\"24dp\"\n",
    "        android:text=\"@string/button_loc\"\n",
    "        android:onClick=\"openLocation\"/>\n",
    "\n",
    "    <EditText\n",
    "        android:id=\"@+id/share_edittext\"\n",
    "        android:layout_width=\"match_parent\"\n",
    "        android:layout_height=\"wrap_content\"\n",
    "        android:text=\"@string/edittext_share\"/>\n",
    "\n",
    "    <Button\n",
    "        android:id=\"@+id/share_text_button\"\n",
    "        android:layout_width=\"wrap_content\"\n",
    "        android:layout_height=\"wrap_content\"\n",
    "        android:layout_marginBottom=\"24dp\"\n",
    "        android:text=\"@string/button_share\"\n",
    "        android:onClick=\"shareText\"/>\n",
    "</LinearLayout>"
   ]
  },
  {
   "cell_type": "markdown",
   "metadata": {},
   "source": [
    "## strings.xml"
   ]
  },
  {
   "cell_type": "code",
   "execution_count": null,
   "metadata": {},
   "outputs": [],
   "source": [
    "<resources>\n",
    "    <string name=\"app_name\">ImplicitIntent</string>\n",
    "\n",
    "    <string name=\"edittext_uri\">http://developer.android.com</string>\n",
    "    <string name=\"button_uri\">Open Website</string>\n",
    "\n",
    "    <string name=\"edittext_loc\">Golden Gate Bridge</string>\n",
    "    <string name=\"button_loc\">Open Location</string>\n",
    "\n",
    "    <string name=\"edittext_share\">\\'Twas brillig and the slithy toves</string>\n",
    "    <string name=\"button_share\">Share This Text</string>\n",
    "    <string name=\"chooser_title\">Share this text with:</string>\n",
    "\n",
    "\n",
    "</resources>\n"
   ]
  },
  {
   "cell_type": "markdown",
   "metadata": {},
   "source": [
    "## Receiving Implicit Intents\n",
    "For your Activity to be activated from inside or outside your app, you need to define an Intent filter in the AndroidManifest.xml.\n",
    "\n",
    "We'll create a new app for this. Under AndroidMainfest.xml, we'll add the following code under the <activity> tags:\n",
    "    \n",
    "This will specify the types of Intents the app can handle\n",
    "- action.VIEW: any intent with view actions\n",
    "- category.DEFAULT: an implicit intent\n",
    "- category.BROWSABLE: requests from browsable links from webpages, emails\n",
    "- data: URIs with a certain scheme and host name\n",
    "\n"
   ]
  },
  {
   "cell_type": "code",
   "execution_count": null,
   "metadata": {},
   "outputs": [],
   "source": [
    "<intent-filter>\n",
    "    <action android:name=\"android.intent.action_View\" />\n",
    "    <category android:name=\"android.intent.category.DEFAULT\" />\n",
    "    <category android:name=\"android.intent.category.BROWSABLE\" />\n",
    "    <data android:scheme=\"http\" android:host=\"developer.android.com\" />\n",
    "</intent-filter>"
   ]
  },
  {
   "cell_type": "markdown",
   "metadata": {},
   "source": [
    "In the onCreate() method, process the Intent that activated the Activity.\n",
    "\n",
    "## MainActivity.java"
   ]
  },
  {
   "cell_type": "code",
   "execution_count": null,
   "metadata": {},
   "outputs": [],
   "source": [
    "package com.example.implicitintentsreceiver;\n",
    "\n",
    "import androidx.appcompat.app.AppCompatActivity;\n",
    "\n",
    "import android.content.Intent;\n",
    "import android.net.Uri;\n",
    "import android.os.Bundle;\n",
    "import android.widget.TextView;\n",
    "\n",
    "public class MainActivity extends AppCompatActivity {\n",
    "\n",
    "    @Override\n",
    "    protected void onCreate(Bundle savedInstanceState) {\n",
    "        super.onCreate(savedInstanceState);\n",
    "        setContentView(R.layout.activity_main);\n",
    "\n",
    "        //Get the incoming intent that was used to activate the Activity\n",
    "        Intent intent = getIntent();\n",
    "\n",
    "        //Get the intent data\n",
    "        Uri uri = intent.getData();\n",
    "\n",
    "        //Make sure the uri is not empty\n",
    "        if (uri != null)\n",
    "        {\n",
    "            String uri_string = getString(R.string.uri_label) + uri.toString();\n",
    "            //Get the textView block\n",
    "            TextView textView = findViewById(R.id.text_uri_message);\n",
    "            //Set the textView to the uri string\n",
    "            textView.setText(uri_string);\n",
    "        }\n",
    "    }\n",
    "}"
   ]
  },
  {
   "cell_type": "markdown",
   "metadata": {},
   "source": [
    "## AndroidManifest.xml\n"
   ]
  },
  {
   "cell_type": "code",
   "execution_count": null,
   "metadata": {},
   "outputs": [],
   "source": [
    "<?xml version=\"1.0\" encoding=\"utf-8\"?>\n",
    "<manifest xmlns:android=\"http://schemas.android.com/apk/res/android\"\n",
    "    package=\"com.example.implicitintentsreceiver\">\n",
    "\n",
    "    <application\n",
    "        android:allowBackup=\"true\"\n",
    "        android:icon=\"@mipmap/ic_launcher\"\n",
    "        android:label=\"@string/app_name\"\n",
    "        android:roundIcon=\"@mipmap/ic_launcher_round\"\n",
    "        android:supportsRtl=\"true\"\n",
    "        android:theme=\"@style/AppTheme\">\n",
    "        <activity android:name=\".MainActivity\">\n",
    "            <intent-filter>\n",
    "                <action android:name=\"android.intent.action.MAIN\" />\n",
    "\n",
    "                <category android:name=\"android.intent.category.LAUNCHER\" />\n",
    "            </intent-filter>\n",
    "            <intent-filter>\n",
    "                <action android:name=\"android.intent.action_View\" />\n",
    "                <category android:name=\"android.intent.category.DEFAULT\" />\n",
    "                <category android:name=\"android.intent.category.BROWSABLE\" />\n",
    "                <data android:scheme=\"http\" android:host=\"developer.android.com\" />\n",
    "            </intent-filter>\n",
    "        </activity>\n",
    "    </application>\n",
    "\n",
    "</manifest>"
   ]
  }
 ],
 "metadata": {
  "kernelspec": {
   "display_name": "Python 3",
   "language": "python",
   "name": "python3"
  },
  "language_info": {
   "codemirror_mode": {
    "name": "ipython",
    "version": 3
   },
   "file_extension": ".py",
   "mimetype": "text/x-python",
   "name": "python",
   "nbconvert_exporter": "python",
   "pygments_lexer": "ipython3",
   "version": "3.7.4"
  }
 },
 "nbformat": 4,
 "nbformat_minor": 4
}
