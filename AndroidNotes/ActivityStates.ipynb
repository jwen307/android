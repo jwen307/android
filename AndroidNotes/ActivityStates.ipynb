{
 "cells": [
  {
   "cell_type": "markdown",
   "metadata": {},
   "source": [
    "# Activity Lifecycle and State\n",
    "\n",
    "Each Activity goes through a lifecycle where it transitions between different states. Each state has a callback method (onCreate(), onStart(), onPause(), which dictates what happens when the app is in that state. \n",
    "\n",
    "You also need to be able to keep your Activity's state when the device configurations change (like a rotation).\n",
    "\n",
    "### The Lifecycle\n",
    "<img src=\"images\\Lifecycles.png\">"
   ]
  },
  {
   "cell_type": "markdown",
   "metadata": {},
   "source": [
    "## Saving Activity State\n",
    "Each time the device configuration changes, it destroys the current instance and starts a new one. This will erase all current values. \n",
    "\n",
    "The state of each Activity is stored in a Bundle object called Activity instance state. To prevent loss of data, we need to implement the onSaveInstanceState() function.\n",
    "\n",
    "Note: In Two Activities:\n",
    "- The second Activity did not change when rotated because its state is generated from an Intent, which remains even on the second creation\n",
    "- The editText View elements automatically save their state\n",
    "\n",
    "So we only need to worry about the TextView elements in the MainActivity.We make a check to see if the reply header is currently available. If it is, we save the state and the text of the reply text. "
   ]
  },
  {
   "cell_type": "code",
   "execution_count": null,
   "metadata": {},
   "outputs": [],
   "source": [
    "//Save the activity state\n",
    "    @Override\n",
    "    public void onSaveInstanceState(Bundle outState){\n",
    "        super.onSaveInstanceState(outState);\n",
    "\n",
    "        //Check if the reply head is currently visible, if so, set it to true\n",
    "        if (mReplyHeadTextView.getVisibility() == View.VISIBLE){\n",
    "            outState.putBoolean(\"reply_visible\",true);\n",
    "            outState.putString(\"reply_text\",mReplyTextView.getText().toString());\n",
    "        }\n",
    "    }"
   ]
  },
  {
   "cell_type": "markdown",
   "metadata": {},
   "source": [
    "Now, we need to add a section in the onCreate() to restore the state. You could also have used the onRestoreInstanceState() callback but this is called after onStart() which makes it more delayed."
   ]
  },
  {
   "cell_type": "code",
   "execution_count": null,
   "metadata": {},
   "outputs": [],
   "source": [
    "//Restore the state\n",
    "        if (savedInstanceState != null){\n",
    "            boolean isVisible = savedInstanceState.getBoolean(\"reply_visible\");\n",
    "            //If it's true, set the reply head to visible\n",
    "            if (isVisible){\n",
    "                mReplyHeadTextView.setVisibility(View.VISIBLE);\n",
    "                mReplyTextView.setText(savedInstanceState.getString(\"reply_text\"));\n",
    "                mReplyTextView.setVisibility(View.VISIBLE);\n",
    "            }\n",
    "        }"
   ]
  }
 ],
 "metadata": {
  "kernelspec": {
   "display_name": "Python 3",
   "language": "python",
   "name": "python3"
  },
  "language_info": {
   "codemirror_mode": {
    "name": "ipython",
    "version": 3
   },
   "file_extension": ".py",
   "mimetype": "text/x-python",
   "name": "python",
   "nbconvert_exporter": "python",
   "pygments_lexer": "ipython3",
   "version": "3.7.4"
  }
 },
 "nbformat": 4,
 "nbformat_minor": 4
}
