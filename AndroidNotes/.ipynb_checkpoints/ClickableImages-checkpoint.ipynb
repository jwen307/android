{
 "cells": [
  {
   "cell_type": "markdown",
   "metadata": {},
   "source": [
    "## Clickable Images\n",
    "This shows how to make any View object into a clickable objects.\n",
    "\n",
    "For images:\n",
    "1. Move the desired images into the drawable folder\n",
    "2. Drage an ImageView onto the template and select your image\n",
    "3. Specify the ID and the item descriptions\n",
    "4. For the item descriptions, you can extract that as a string resource\n",
    "5. Add an onClick resource to the xml file.\n",
    "6. Create a method to handle the click\n",
    "\n",
    "\n",
    "Modifying the action button icon:\n",
    "1. RC on drawable -> New -> Image Asset\n",
    "2. Select the Action Bar\n",
    "3. Pick the icon you want\n",
    "4. Go to activity_main.xml -> Change app:srcCompat to \"@drawable/ic_shopping_cart\"\n",
    "\n",
    "Changing the Action Button Response:\n",
    "1. Comment out the setOnClick...\n",
    "2. Create a method called onClick\n",
    "3. Create an onCreate attribute in the activity_main.xml for the action button.\n"
   ]
  }
 ],
 "metadata": {
  "kernelspec": {
   "display_name": "Python 3",
   "language": "python",
   "name": "python3"
  },
  "language_info": {
   "codemirror_mode": {
    "name": "ipython",
    "version": 3
   },
   "file_extension": ".py",
   "mimetype": "text/x-python",
   "name": "python",
   "nbconvert_exporter": "python",
   "pygments_lexer": "ipython3",
   "version": "3.7.4"
  }
 },
 "nbformat": 4,
 "nbformat_minor": 4
}
