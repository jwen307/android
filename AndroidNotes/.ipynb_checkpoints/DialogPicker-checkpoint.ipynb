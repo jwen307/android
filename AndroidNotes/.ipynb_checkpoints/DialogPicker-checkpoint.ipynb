{
 "cells": [
  {
   "cell_type": "markdown",
   "metadata": {},
   "source": [
    "## Alert Dialogs and Pickers\n",
    "This shows how to create dialog windows that pop up and require the user to select on option. It will also show windows that force the user to pick a date and time.\n",
    "\n",
    "We will use the AlertDialog subclass of the Dialog class. You create an AlertDialog Builder where you can specify the title, message, options, and what happens when the options are picked. \n",
    "\n",
    "In the MainActivity.java file\n"
   ]
  },
  {
   "cell_type": "code",
   "execution_count": null,
   "metadata": {},
   "outputs": [],
   "source": [
    "public void onClickShowAlert(View view) {\n",
    "\n",
    "        AlertDialog.Builder myAlertBuilder = new\n",
    "                AlertDialog.Builder(MainActivity.this);\n",
    "        // Set the dialog title and message.\n",
    "        myAlertBuilder.setTitle(\"Alert\");\n",
    "        myAlertBuilder.setMessage(\"Click OK to continue, or Cancel to stop:\");\n",
    "\n",
    "        // Add the dialog buttons.\n",
    "        myAlertBuilder.setPositiveButton(\"OK\", new\n",
    "                DialogInterface.OnClickListener() {\n",
    "                    public void onClick(DialogInterface dialog, int which) {\n",
    "                        // User clicked OK button.\n",
    "                        Toast.makeText(getApplicationContext(), \"Pressed OK\",\n",
    "                                Toast.LENGTH_SHORT).show();\n",
    "                    }\n",
    "                });\n",
    "        myAlertBuilder.setNegativeButton(\"Cancel\", new\n",
    "                DialogInterface.OnClickListener() {\n",
    "                    public void onClick(DialogInterface dialog, int which) {\n",
    "                        // User cancelled the dialog.\n",
    "                        Toast.makeText(getApplicationContext(), \"Pressed Cancel\",\n",
    "                                Toast.LENGTH_SHORT).show();\n",
    "                    }\n",
    "                });\n",
    "        \n",
    "        // Create and show the AlertDialog.\n",
    "        myAlertBuilder.show();\n",
    "}"
   ]
  },
  {
   "cell_type": "markdown",
   "metadata": {},
   "source": [
    "## Using a Picker\n",
    "We will use a Framgent which is a portion of an UI within an Activity. The DialogFragment will give a picker dialog\n",
    "\n",
    "Setting up the Fragment\n",
    "1. Click on the MainActivity\n",
    "2. File-> New -> Fragment\n",
    "3. Name the Fragment and unselect all of the boxes -> Finish\n",
    "4. In the new Java file, change the class definition to extend DialogFragment and implement DatePickerDialog.OnDateSetListener"
   ]
  },
  {
   "cell_type": "code",
   "execution_count": null,
   "metadata": {},
   "outputs": [],
   "source": [
    "public class DatePickerFragment extends DialogFragment \n",
    "implements DatePickerDialog.OnDateSetListener {"
   ]
  },
  {
   "cell_type": "markdown",
   "metadata": {},
   "source": [
    "We change the inside of the class to"
   ]
  },
  {
   "cell_type": "code",
   "execution_count": null,
   "metadata": {},
   "outputs": [],
   "source": [
    "public class DatePickerFragment extends DialogFragment implements DatePickerDialog.OnDateSetListener {\n",
    "\n",
    "\n",
    "    @NonNull\n",
    "    @Override\n",
    "    public Dialog onCreateDialog(Bundle savedInstanceState) {\n",
    "        // Use the current date as the default date in the picker.\n",
    "        final Calendar c = Calendar.getInstance();\n",
    "        int year = c.get(Calendar.YEAR);\n",
    "        int month = c.get(Calendar.MONTH);\n",
    "        int day = c.get(Calendar.DAY_OF_MONTH);\n",
    "\n",
    "// Create a new instance of DatePickerDialog and return it.\n",
    "        return new DatePickerDialog(getActivity(), this, year, month, day);\n",
    "    }\n",
    "\n",
    "    @Override\n",
    "    public void onDateSet(DatePicker view, int year, int month, int dayOfMonth) {\n",
    "    \n",
    "    }\n",
    "}"
   ]
  },
  {
   "cell_type": "markdown",
   "metadata": {},
   "source": [
    "Now, in the MainActivity.java file, we need to the call the Fragment manager to call the class we just defined."
   ]
  },
  {
   "cell_type": "code",
   "execution_count": null,
   "metadata": {},
   "outputs": [],
   "source": [
    "public void showDatePicker(View view) {\n",
    "        //Calls the Fragment manager\n",
    "        DialogFragment newFragment = new DatePickerFragment();\n",
    "        newFragment.show(getSupportFragmentManager(),\"datePicker\");\n",
    "    }"
   ]
  },
  {
   "cell_type": "markdown",
   "metadata": {},
   "source": [
    "To use the entered date, you need to add a method in MainActivity.java that extracts the info into a String message. "
   ]
  },
  {
   "cell_type": "code",
   "execution_count": null,
   "metadata": {},
   "outputs": [],
   "source": [
    "public void processDatePickerResult(int year, int month, int day) {\n",
    "        //Convert the date to strings\n",
    "        String month_string = Integer.toString(month+1);\n",
    "        String day_string = Integer.toString(day);\n",
    "        String year_string = Integer.toString(year);\n",
    "        String dateMessage = (month_string +\n",
    "                \"/\" + day_string + \"/\" + year_string);\n",
    "\n",
    "        Toast.makeText(this, \"Date: \" + dateMessage,\n",
    "                Toast.LENGTH_SHORT).show();\n",
    "\n",
    "    }"
   ]
  },
  {
   "cell_type": "markdown",
   "metadata": {},
   "source": [
    "Then, you call that method in the Fragment java file in the onDateSet method."
   ]
  },
  {
   "cell_type": "code",
   "execution_count": null,
   "metadata": {},
   "outputs": [],
   "source": [
    "@Override\n",
    "    public void onDateSet(DatePicker view, int year, int month, int dayOfMonth) {\n",
    "        MainActivity activity = (MainActivity) getActivity();\n",
    "        activity.processDatePickerResult(year, month, dayOfMonth);\n",
    "    }"
   ]
  },
  {
   "cell_type": "markdown",
   "metadata": {},
   "source": [
    "# Full Code\n",
    "## activity_main.xml\n"
   ]
  },
  {
   "cell_type": "code",
   "execution_count": null,
   "metadata": {},
   "outputs": [],
   "source": [
    "<?xml version=\"1.0\" encoding=\"utf-8\"?>\n",
    "<androidx.constraintlayout.widget.ConstraintLayout xmlns:android=\"http://schemas.android.com/apk/res/android\"\n",
    "    xmlns:app=\"http://schemas.android.com/apk/res-auto\"\n",
    "    xmlns:tools=\"http://schemas.android.com/tools\"\n",
    "    android:layout_width=\"match_parent\"\n",
    "    android:layout_height=\"match_parent\"\n",
    "    tools:context=\".MainActivity\">\n",
    "\n",
    "    <Button\n",
    "        android:id=\"@+id/button\"\n",
    "        android:layout_width=\"wrap_content\"\n",
    "        android:layout_height=\"wrap_content\"\n",
    "        android:layout_marginTop=\"24dp\"\n",
    "        android:text=\"@string/button\"\n",
    "        app:layout_constraintEnd_toEndOf=\"parent\"\n",
    "        app:layout_constraintStart_toStartOf=\"parent\"\n",
    "        app:layout_constraintTop_toBottomOf=\"@+id/alert_label\"\n",
    "        android:onClick=\"onClickShowAlert\"/>\n",
    "\n",
    "    <TextView\n",
    "        android:id=\"@+id/alert_label\"\n",
    "        android:layout_width=\"wrap_content\"\n",
    "        android:layout_height=\"wrap_content\"\n",
    "        android:text=\"@string/alert_label\"\n",
    "        app:layout_constraintBottom_toBottomOf=\"parent\"\n",
    "        app:layout_constraintLeft_toLeftOf=\"parent\"\n",
    "        app:layout_constraintRight_toRightOf=\"parent\"\n",
    "        app:layout_constraintTop_toTopOf=\"parent\" />\n",
    "\n",
    "    <TextView\n",
    "        android:id=\"@+id/date_text\"\n",
    "        android:layout_width=\"wrap_content\"\n",
    "        android:layout_height=\"wrap_content\"\n",
    "        android:layout_marginTop=\"128dp\"\n",
    "        android:text=\"Choose a Date:\"\n",
    "        app:layout_constraintEnd_toEndOf=\"parent\"\n",
    "        app:layout_constraintStart_toStartOf=\"parent\"\n",
    "        app:layout_constraintTop_toTopOf=\"parent\" />\n",
    "\n",
    "    <Button\n",
    "        android:id=\"@+id/button_date\"\n",
    "        android:layout_width=\"wrap_content\"\n",
    "        android:layout_height=\"wrap_content\"\n",
    "        android:layout_marginTop=\"24dp\"\n",
    "        android:text=\"Date\"\n",
    "        app:layout_constraintEnd_toEndOf=\"parent\"\n",
    "        app:layout_constraintStart_toStartOf=\"parent\"\n",
    "        app:layout_constraintTop_toBottomOf=\"@+id/date_text\"\n",
    "        android:onClick=\"showDatePicker\"/>\n",
    "\n",
    "</androidx.constraintlayout.widget.ConstraintLayout>"
   ]
  },
  {
   "cell_type": "markdown",
   "metadata": {},
   "source": [
    "## MainActivity.java"
   ]
  },
  {
   "cell_type": "code",
   "execution_count": null,
   "metadata": {},
   "outputs": [],
   "source": [
    "package com.example.dialogforalert;\n",
    "\n",
    "import androidx.appcompat.app.AppCompatActivity;\n",
    "import androidx.fragment.app.DialogFragment;\n",
    "\n",
    "import android.app.AlertDialog;\n",
    "import android.content.DialogInterface;\n",
    "import android.os.Bundle;\n",
    "import android.view.View;\n",
    "import android.widget.Toast;\n",
    "\n",
    "public class MainActivity extends AppCompatActivity {\n",
    "\n",
    "    @Override\n",
    "    protected void onCreate(Bundle savedInstanceState) {\n",
    "        super.onCreate(savedInstanceState);\n",
    "        setContentView(R.layout.activity_main);\n",
    "    }\n",
    "\n",
    "    public void onClickShowAlert(View view) {\n",
    "\n",
    "        AlertDialog.Builder myAlertBuilder = new\n",
    "                AlertDialog.Builder(MainActivity.this);\n",
    "        // Set the dialog title and message.\n",
    "        myAlertBuilder.setTitle(\"Alert\");\n",
    "        myAlertBuilder.setMessage(\"Click OK to continue, or Cancel to stop:\");\n",
    "\n",
    "        // Add the dialog buttons.\n",
    "        myAlertBuilder.setPositiveButton(\"OK\", new\n",
    "                DialogInterface.OnClickListener() {\n",
    "                    public void onClick(DialogInterface dialog, int which) {\n",
    "                        // User clicked OK button.\n",
    "                        Toast.makeText(getApplicationContext(), \"Pressed OK\",\n",
    "                                Toast.LENGTH_SHORT).show();\n",
    "                    }\n",
    "                });\n",
    "        myAlertBuilder.setNegativeButton(\"Cancel\", new\n",
    "                DialogInterface.OnClickListener() {\n",
    "                    public void onClick(DialogInterface dialog, int which) {\n",
    "                        // User cancelled the dialog.\n",
    "                        Toast.makeText(getApplicationContext(), \"Pressed Cancel\",\n",
    "                                Toast.LENGTH_SHORT).show();\n",
    "                    }\n",
    "                });\n",
    "\n",
    "        // Create and show the AlertDialog.\n",
    "        myAlertBuilder.show();\n",
    "    }\n",
    "\n",
    "    public void showDatePicker(View view) {\n",
    "        //Calls the Fragment manager\n",
    "        DialogFragment newFragment = new DatePickerFragment();\n",
    "        newFragment.show(getSupportFragmentManager(),\"datePicker\");\n",
    "    }\n",
    "\n",
    "\n",
    "    public void processDatePickerResult(int year, int month, int day) {\n",
    "        //Convert the date to strings\n",
    "        String month_string = Integer.toString(month+1);\n",
    "        String day_string = Integer.toString(day);\n",
    "        String year_string = Integer.toString(year);\n",
    "        String dateMessage = (month_string +\n",
    "                \"/\" + day_string + \"/\" + year_string);\n",
    "\n",
    "        Toast.makeText(this, \"Date: \" + dateMessage,\n",
    "                Toast.LENGTH_SHORT).show();\n",
    "\n",
    "    }\n",
    "}\n",
    "\n"
   ]
  },
  {
   "cell_type": "markdown",
   "metadata": {},
   "source": [
    "## DatePickerFragment.java"
   ]
  },
  {
   "cell_type": "code",
   "execution_count": null,
   "metadata": {},
   "outputs": [],
   "source": [
    "package com.example.dialogforalert;\n",
    "\n",
    "\n",
    "import android.app.DatePickerDialog;\n",
    "import android.app.Dialog;\n",
    "import android.os.Bundle;\n",
    "\n",
    "import androidx.annotation.NonNull;\n",
    "import androidx.fragment.app.DialogFragment;\n",
    "import androidx.fragment.app.Fragment;\n",
    "\n",
    "import android.view.LayoutInflater;\n",
    "import android.view.View;\n",
    "import android.view.ViewGroup;\n",
    "import android.widget.DatePicker;\n",
    "import android.widget.TextView;\n",
    "\n",
    "import java.util.Calendar;\n",
    "\n",
    "/**\n",
    " * A simple {@link Fragment} subclass.\n",
    " */\n",
    "public class DatePickerFragment extends DialogFragment implements DatePickerDialog.OnDateSetListener {\n",
    "\n",
    "\n",
    "    @NonNull\n",
    "    @Override\n",
    "    public Dialog onCreateDialog(Bundle savedInstanceState) {\n",
    "        // Use the current date as the default date in the picker.\n",
    "        final Calendar c = Calendar.getInstance();\n",
    "        int year = c.get(Calendar.YEAR);\n",
    "        int month = c.get(Calendar.MONTH);\n",
    "        int day = c.get(Calendar.DAY_OF_MONTH);\n",
    "\n",
    "// Create a new instance of DatePickerDialog and return it.\n",
    "        return new DatePickerDialog(getActivity(), this, year, month, day);\n",
    "    }\n",
    "\n",
    "    @Override\n",
    "    public void onDateSet(DatePicker view, int year, int month, int dayOfMonth) {\n",
    "        MainActivity activity = (MainActivity) getActivity();\n",
    "        activity.processDatePickerResult(year, month, dayOfMonth);\n",
    "    }\n",
    "}\n"
   ]
  }
 ],
 "metadata": {
  "kernelspec": {
   "display_name": "Python 3",
   "language": "python",
   "name": "python3"
  },
  "language_info": {
   "codemirror_mode": {
    "name": "ipython",
    "version": 3
   },
   "file_extension": ".py",
   "mimetype": "text/x-python",
   "name": "python",
   "nbconvert_exporter": "python",
   "pygments_lexer": "ipython3",
   "version": "3.7.4"
  }
 },
 "nbformat": 4,
 "nbformat_minor": 4
}
