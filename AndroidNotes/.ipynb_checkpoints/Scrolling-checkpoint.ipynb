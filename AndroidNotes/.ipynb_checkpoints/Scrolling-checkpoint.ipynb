{
 "cells": [
  {
   "cell_type": "markdown",
   "metadata": {},
   "source": [
    "# Scrolling Views\n",
    "We will use the ScrollView class, which is a subclass of FrameLayout. Inside of a ScrollView, you can put a ViewGroup like LinearLayout. <br>\n",
    "Note: This can take a lot of memory. You can also use a RecycleView, which is covered in a different lesson.\n",
    "\n",
    "## Overview\n",
    "ScrollView is also a ViewGroup that contains other ViewGroups\n",
    "\n",
    "## Starting the app\n",
    "1. Change the layout to RelativeLayout\n",
    "2. Add the different ViewGroups for the Title, subtitle, and article\n",
    "3. Add text to the article portion for scrolling\n",
    "    - For an app that accesses a newspaper, the article can come from an online database. \n",
    "    - To add your own text, go to strings.xml and change the text.\n",
    "4. Add an autoLink attribute for web links: android: autoLink = \"web\"\n",
    "5. Add a ScrollView: \n",
    "    - In the .xml file, put the TextView inside a ScrollView\n",
    "    - If you want to have multiple Views scroll (say have the subheading scroll as well), you can put a LinearLayout in the ScrollView and have the other Views inside the LinearLayout.\n",
    "    \n",
    "## XML File\n"
   ]
  },
  {
   "cell_type": "code",
   "execution_count": null,
   "metadata": {},
   "outputs": [],
   "source": [
    "<?xml version=\"1.0\" encoding=\"utf-8\"?>\n",
    "<RelativeLayout xmlns:android=\"http://schemas.android.com/apk/res/android\"\n",
    "    xmlns:app=\"http://schemas.android.com/apk/res-auto\"\n",
    "    xmlns:tools=\"http://schemas.android.com/tools\"\n",
    "    android:layout_width=\"match_parent\"\n",
    "    android:layout_height=\"match_parent\"\n",
    "    tools:context=\".MainActivity\">\n",
    "\n",
    "    <TextView\n",
    "        android:id=\"@+id/article_heading\"\n",
    "        android:layout_width=\"match_parent\"\n",
    "        android:layout_height=\"wrap_content\"\n",
    "        android:background=\"@color/colorPrimary\"\n",
    "        android:padding=\"@dimen/article_padding\"\n",
    "        android:text=\"@string/article_title\"\n",
    "        android:textAppearance=\"@android:style/TextAppearance.DeviceDefault.Large\"\n",
    "        android:textColor=\"@android:color/white\"\n",
    "        android:textStyle=\"bold\" />\n",
    "\n",
    "\n",
    "    <ScrollView\n",
    "        android:layout_width=\"wrap_content\"\n",
    "        android:layout_height=\"wrap_content\"\n",
    "        android:layout_below=\"@id/article_heading\">\n",
    "\n",
    "        <LinearLayout\n",
    "            android:layout_width=\"match_parent\"\n",
    "            android:layout_height=\"wrap_content\"\n",
    "            android:orientation=\"vertical\">\n",
    "\n",
    "            <TextView\n",
    "                android:id=\"@+id/article_subheading\"\n",
    "                android:layout_width=\"match_parent\"\n",
    "                android:layout_height=\"wrap_content\"\n",
    "\n",
    "                android:padding=\"@dimen/article_padding\"\n",
    "                android:text=\"@string/article_subtitle\"\n",
    "                android:textAppearance=\"@android:style/TextAppearance.DeviceDefault.Large\"\n",
    "                android:textStyle=\"bold\" />\n",
    "\n",
    "            <TextView\n",
    "                android:id=\"@+id/article\"\n",
    "                android:layout_width=\"wrap_content\"\n",
    "                android:layout_height=\"wrap_content\"\n",
    "                android:autoLink=\"web\"\n",
    "                android:lineSpacingExtra=\"@dimen/line_spacing\"\n",
    "\n",
    "                android:padding=\"@dimen/article_padding\"\n",
    "                android:text=\"@string/article_text\" />\n",
    "        </LinearLayout>\n",
    "    </ScrollView>\n",
    "\n",
    "</RelativeLayout>"
   ]
  },
  {
   "cell_type": "markdown",
   "metadata": {},
   "source": [
    "## Strings.xml"
   ]
  },
  {
   "cell_type": "code",
   "execution_count": null,
   "metadata": {},
   "outputs": [],
   "source": [
    "<resources>\n",
    "    <string name=\"app_name\">Scrolling Text</string>\n",
    "    <string name=\"article_title\">The Art of App Creation</string>\n",
    "    <string name=\"article_subtitle\">How to Make Beautiful Apps</string>\n",
    "    <string name=\"article_text\">In a vault deep inside Abbey Road Studios in London — protected by an unmarked, triple-locked, police-alarmed door — are something like 400 hours of unreleased Beatles recordings, starting from June 2, 1962 and ending with the very last tracks recorded for the <i>Let It Be</i> album. The best of the best were released by Apple Records in the form of the 3-volume Anthology series.\n",
    "        For more information, see the Beatles Time Capsule at www.rockument.com.\n",
    "\\n\\n\n",
    "This volume starts with the first new Beatle song, “Free as a Bird” (based on a John Lennon demo, found only on <i>The Lost Lennon Tapes Vol. 28</i>, and covers the very earliest historical recordings, outtakes from the first albums, and live recordings from early concerts and BBC Radio sessions.\n",
    "\\n\\n\n",
    "<b>Highlights include:</b>\n",
    "\\n\\n\n",
    "<b><i>Cry for a Shadow</i></b> - Many a Beatle fanatic started down the outtake road, like I did, with a first listen to this song. Originally titled “Beatle Bop” and recorded in a single session that yielded four songs (the other three featured Tony Sheridan with the Beatles as a backing band), “Cry for a Shadow” is an instrumental written by Lennon and Harrison, which makes it unique to this day. John Lennon plays rhythm guitar, George Harrison plays lead guitar, Paul McCartney plays bass, and Pete Best plays drums. The sessions were produced by Bert Kaempfert in Hamburg, Germany, during the Beatles’ second visit from April through July of 1961 to play in the Reeperbahn-section clubs.\n",
    "\\n\\n\n",
    "<b><i>My Bonnie</i></b> and <b><i>Ain’t She Sweet</i></b> — At the same session, the Beatles played on “My Bonnie” (the first-ever single with Beatles playing), as the backing band for English singer Tony Sheridan, originally a member of the Jets. The popularity of this single in Liverpool brought the Beatles to the attention of Brian Epstein, who worked in the NEMS record store and tried to meet demand for the disc. John Lennon then sings a fine “Ain’t She Sweet” (his first-ever released vocal).\n",
    "\\n\\n\n",
    "<b><i>Searchin</i></b> — A Jerry Leiber - Mike Stoller comedy song that was a hit for the Coasters in 1957, and a popular live favorite of the Beatles. The Coasters also had a hit with “Besame Mucho” and the Beatles covered that song as well. Ringo Starr had by now replaced Pete Best on drums. The high falsetto is George, who also plays a hesitant lead guitar. This is from their first audition for Decca Records in London on Jan 1., 1962, live in the studio. The Grateful Dead would later cover “Searchin” with a similar arrangement, Pigpen doing the Paul vocals. A live version is available on outtake records featuring the Dead joined by the Beach Boys!\n",
    "\\n\\n\n",
    "<b><i>Love Me Do</i></b> — An early version of the song, played a bit slower and with more of a blues feeling, and a cool bossa-nova beat in middle. Paul had to sing while John played harmonica — a first for the group. Pete Best played drums on this version.\n",
    "\\n\\n\n",
    "<b><i>She Loves You – Till There Was You – Twist and Shout</i></b> — Live at the Princess Wales Theatre by Leicester Square in London, attended by the Queen. “Till There Was You” (by Meredith Wilson) is from the musical The Music Man and a hit for Peggy Lee in 1961. Before playing it, Paul said it was recorded by his favorite American group, “Sophie Tucker” (which got some laughs). At the end, John tells the people in the cheaper seats to clap their hands, and the rest to “rattle your jewelry” and then announces “Twist and Shout” (a song by Bert Russell and Phil Medley that was first recorded in 1962 by the Isley Brothers). A film of the performance shows the Queen smiling at John’s remark.\n",
    "\\n\\n\n",
    "<b><i>Leave My Kitten Alone</i></b> — One of the lost Beatle songs recorded during the “Beatles For Sale” sessions but never released. This song, written by Little Willie John, Titus Turner, and James McDougal, was a 1959 R&amp;B hit for Little Willie John and covered by Johnny Preston before the Beatles tried it and shelved it. A reference to a “big fat bulldog” may have influenced John’s “Hey Bulldog” (Yellow Submarine album), which is a similar rocker.\n",
    "\\n\\n\n",
    "<b><i>One After 909</i></b> — A song recorded for the <i>Let It Be</i> album was actually worked on way back in the beginning, six years earlier. This take shows how they did it much more slowly, with an R&amp;B feel to it.\n",
    "</string>\n",
    "</resources>\n"
   ]
  },
  {
   "cell_type": "markdown",
   "metadata": {},
   "source": [
    "## Java File"
   ]
  },
  {
   "cell_type": "code",
   "execution_count": null,
   "metadata": {},
   "outputs": [],
   "source": [
    "package com.example.scrollingtext;\n",
    "\n",
    "import androidx.appcompat.app.AppCompatActivity;\n",
    "\n",
    "import android.os.Bundle;\n",
    "\n",
    "public class MainActivity extends AppCompatActivity {\n",
    "\n",
    "    @Override\n",
    "    protected void onCreate(Bundle savedInstanceState) {\n",
    "        super.onCreate(savedInstanceState);\n",
    "        setContentView(R.layout.activity_main);\n",
    "    }\n",
    "}\n"
   ]
  }
 ],
 "metadata": {
  "kernelspec": {
   "display_name": "Python 3",
   "language": "python",
   "name": "python3"
  },
  "language_info": {
   "codemirror_mode": {
    "name": "ipython",
    "version": 3
   },
   "file_extension": ".py",
   "mimetype": "text/x-python",
   "name": "python",
   "nbconvert_exporter": "python",
   "pygments_lexer": "ipython3",
   "version": "3.7.5"
  }
 },
 "nbformat": 4,
 "nbformat_minor": 4
}
