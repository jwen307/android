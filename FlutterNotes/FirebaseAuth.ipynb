{
 "cells": [
  {
   "cell_type": "markdown",
   "metadata": {},
   "source": [
    "# Firebase Authenication Setup\n",
    "\n",
    "This tutorial utilizes the firebase authentication service to keep track of users. \n",
    "\n",
    "Setup Firebase\n",
    "- Go through the same steps of setting up Firebase, adding the json file, and adding the yaml dependencies.\n",
    "- Go to the authentication page and enable the different sign-in methods you want\n",
    "<img src=\"authentication_firebase.png\">\n",
    "\n",
    "    \n",
    "    "
   ]
  },
  {
   "cell_type": "markdown",
   "metadata": {},
   "source": [
    "## General Authentication Structure\n",
    "\n",
    "- We will have a root widget with a wrapper widget that is listening for changes to the authentication status in the background. \n",
    "- If logged in, it will show the Home widget which has two other widgets for the BrewList and Settings\n",
    "- If not logged in, it will show the Authentication widget with options to signin or register\n",
    "\n",
    "<img src=\"auth_structure.png\">"
   ]
  },
  {
   "cell_type": "markdown",
   "metadata": {},
   "source": [
    "## Creating the Authentication services\n",
    "1) Create a new folder under lib called services\n",
    "2) Create an auth.dart file\n",
    "3) Import the Firebase_auth package: \n",
    "- import 'package:firebase_auth/firebase_auth.dart';\n",
    "4) Create sign-in methods in an AuthService class to get the Firebase user.\n",
    "5) Use the AuthService objects in other widgets to use sign-in methods\n",
    "\n",
    "## Check if the user is signed in already using Streams and Providers\n",
    "1) Create a stream function in the AuthService class which will send a stream indicating whether the user is signed in or not.\n",
    "2) We want to wrap the whole app in a Provider which handles the stream.\n",
    "- Install the Provider package by adding to the .yaml dependencies: provider: ^4.0.4\n",
    "- Set the provider in the Home widget to listen to the user stream\n",
    "- In the wrapper, it also listens to the stream so can check if the status is logged in or out\n",
    "\n",
    "\n",
    "\n",
    "# Creating a loading widget\n",
    "This will show a spinner when the next page is loading.\n",
    "1) Get package flutter_spinkit: \"^4.1.2\" and add it to the dependencies in the .yaml file\n",
    "2) Create a separate loading.dart file with a stateless widget so we can use the loading widget in multiple places\n",
    "\n",
    "\n",
    "# Using a Firebase Firestore\n",
    "This can be used to store user data and any other data as well.\n",
    "Collections represent a new table. Each Document is a new row. \n",
    "1) Setup Firestore on the Firebase website. Select the permissions to be Test Mode for now\n",
    "2) Create a new database.dart file which creates a collection\n",
    "3) Each time a user signs up, create a new document with the id for that user\n",
    "4) Add a stream to notify whenever a document or collection changes in the home page\n",
    "5) Can add another stream to get the logined in user data\n",
    "\n",
    "\n",
    "# Alternative to a Provider: StreamBuilder\n",
    "This can be used if you stream does not need to be passed to child widgets\n",
    "1) Put cursor in current widget, click the light build, click \"wrap in stream builder'\n",
    "2) Specify the stream to listen to\n",
    "3) Put the widget you want to be build for the snapshot in the builder attribute\n",
    "\n",
    "\n",
    "\n",
    "# Adding images to the project\n",
    "1) Create a new folder in the project called assets\n",
    "2) Go to the pubspec.yaml file, uncomment the \"assets:\" and below add \"- assets/\" so it registers that folder\n",
    "3) Whenever you want to specify the image, use the widget AssetImage('assets/coffee_icon.png')\n",
    "\n"
   ]
  },
  {
   "cell_type": "code",
   "execution_count": null,
   "metadata": {},
   "outputs": [],
   "source": []
  }
 ],
 "metadata": {
  "kernelspec": {
   "display_name": "Python 3",
   "language": "python",
   "name": "python3"
  },
  "language_info": {
   "codemirror_mode": {
    "name": "ipython",
    "version": 3
   },
   "file_extension": ".py",
   "mimetype": "text/x-python",
   "name": "python",
   "nbconvert_exporter": "python",
   "pygments_lexer": "ipython3",
   "version": "3.7.4"
  }
 },
 "nbformat": 4,
 "nbformat_minor": 4
}
