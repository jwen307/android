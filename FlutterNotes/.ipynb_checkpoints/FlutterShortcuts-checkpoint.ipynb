{
 "cells": [
  {
   "cell_type": "markdown",
   "metadata": {},
   "source": [
    "# Flutter Shortcuts and Go to Knows\n",
    "\n",
    "- stful + (tab) : Create a stateful widget template\n",
    "- stles + (tab) : Create a stateless widget template"
   ]
  },
  {
   "cell_type": "markdown",
   "metadata": {},
   "source": [
    "## Structure of Code\n",
    "\n",
    "Under lib, create new folders that correspond to different parts of the app.\n",
    "- For Example: create a folder for all the screens in the app and a folder for the files that deal with the authentication service."
   ]
  },
  {
   "cell_type": "code",
   "execution_count": null,
   "metadata": {},
   "outputs": [],
   "source": []
  }
 ],
 "metadata": {
  "kernelspec": {
   "display_name": "Python 3",
   "language": "python",
   "name": "python3"
  },
  "language_info": {
   "codemirror_mode": {
    "name": "ipython",
    "version": 3
   },
   "file_extension": ".py",
   "mimetype": "text/x-python",
   "name": "python",
   "nbconvert_exporter": "python",
   "pygments_lexer": "ipython3",
   "version": "3.7.4"
  }
 },
 "nbformat": 4,
 "nbformat_minor": 4
}
